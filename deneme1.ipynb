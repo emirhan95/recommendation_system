{
 "cells": [
  {
   "cell_type": "code",
   "execution_count": 1,
   "metadata": {},
   "outputs": [],
   "source": [
    "import numpy as np\n",
    "import pandas as pd\n",
    "pd.options.mode.chained_assignment = None\n",
    "from nltk.corpus import stopwords\n",
    "from nltk.stem import PorterStemmer \n",
    "from sklearn.metrics.pairwise import cosine_similarity\n",
    "from sklearn.feature_extraction.text import CountVectorizer\n",
    "import string"
   ]
  },
  {
   "cell_type": "code",
   "execution_count": 2,
   "metadata": {},
   "outputs": [
    {
     "name": "stderr",
     "output_type": "stream",
     "text": [
      "C:\\Users\\emirhan\\Anaconda3\\lib\\site-packages\\IPython\\core\\interactiveshell.py:3049: DtypeWarning: Columns (3) have mixed types. Specify dtype option on import or set low_memory=False.\n",
      "  interactivity=interactivity, compiler=compiler, result=result)\n"
     ]
    }
   ],
   "source": [
    "imdb_movies = pd.read_csv(\"IMDb movies.csv\")"
   ]
  },
  {
   "cell_type": "code",
   "execution_count": 3,
   "metadata": {},
   "outputs": [
    {
     "data": {
      "text/html": [
       "<div>\n",
       "<style scoped>\n",
       "    .dataframe tbody tr th:only-of-type {\n",
       "        vertical-align: middle;\n",
       "    }\n",
       "\n",
       "    .dataframe tbody tr th {\n",
       "        vertical-align: top;\n",
       "    }\n",
       "\n",
       "    .dataframe thead th {\n",
       "        text-align: right;\n",
       "    }\n",
       "</style>\n",
       "<table border=\"1\" class=\"dataframe\">\n",
       "  <thead>\n",
       "    <tr style=\"text-align: right;\">\n",
       "      <th></th>\n",
       "      <th>original_title</th>\n",
       "      <th>genre</th>\n",
       "      <th>director</th>\n",
       "      <th>actors</th>\n",
       "      <th>description</th>\n",
       "    </tr>\n",
       "  </thead>\n",
       "  <tbody>\n",
       "    <tr>\n",
       "      <th>0</th>\n",
       "      <td>Miss Jerry</td>\n",
       "      <td>Romance</td>\n",
       "      <td>Alexander Black</td>\n",
       "      <td>Blanche Bayliss, William Courtenay, Chauncey D...</td>\n",
       "      <td>The adventures of a female reporter in the 1890s.</td>\n",
       "    </tr>\n",
       "    <tr>\n",
       "      <th>1</th>\n",
       "      <td>The Story of the Kelly Gang</td>\n",
       "      <td>Biography, Crime, Drama</td>\n",
       "      <td>Charles Tait</td>\n",
       "      <td>Elizabeth Tait, John Tait, Norman Campbell, Be...</td>\n",
       "      <td>True story of notorious Australian outlaw Ned ...</td>\n",
       "    </tr>\n",
       "    <tr>\n",
       "      <th>2</th>\n",
       "      <td>Den sorte drøm</td>\n",
       "      <td>Drama</td>\n",
       "      <td>Urban Gad</td>\n",
       "      <td>Asta Nielsen, Valdemar Psilander, Gunnar Helse...</td>\n",
       "      <td>Two men of high rank are both wooing the beaut...</td>\n",
       "    </tr>\n",
       "    <tr>\n",
       "      <th>3</th>\n",
       "      <td>Cleopatra</td>\n",
       "      <td>Drama, History</td>\n",
       "      <td>Charles L. Gaskill</td>\n",
       "      <td>Helen Gardner, Pearl Sindelar, Miss Fielding, ...</td>\n",
       "      <td>The fabled queen of Egypt's affair with Roman ...</td>\n",
       "    </tr>\n",
       "    <tr>\n",
       "      <th>4</th>\n",
       "      <td>L'Inferno</td>\n",
       "      <td>Adventure, Drama, Fantasy</td>\n",
       "      <td>Francesco Bertolini, Adolfo Padovan</td>\n",
       "      <td>Salvatore Papa, Arturo Pirovano, Giuseppe de L...</td>\n",
       "      <td>Loosely adapted from Dante's Divine Comedy and...</td>\n",
       "    </tr>\n",
       "  </tbody>\n",
       "</table>\n",
       "</div>"
      ],
      "text/plain": [
       "                original_title                      genre  \\\n",
       "0                   Miss Jerry                    Romance   \n",
       "1  The Story of the Kelly Gang    Biography, Crime, Drama   \n",
       "2               Den sorte drøm                      Drama   \n",
       "3                    Cleopatra             Drama, History   \n",
       "4                    L'Inferno  Adventure, Drama, Fantasy   \n",
       "\n",
       "                              director  \\\n",
       "0                      Alexander Black   \n",
       "1                         Charles Tait   \n",
       "2                            Urban Gad   \n",
       "3                   Charles L. Gaskill   \n",
       "4  Francesco Bertolini, Adolfo Padovan   \n",
       "\n",
       "                                              actors  \\\n",
       "0  Blanche Bayliss, William Courtenay, Chauncey D...   \n",
       "1  Elizabeth Tait, John Tait, Norman Campbell, Be...   \n",
       "2  Asta Nielsen, Valdemar Psilander, Gunnar Helse...   \n",
       "3  Helen Gardner, Pearl Sindelar, Miss Fielding, ...   \n",
       "4  Salvatore Papa, Arturo Pirovano, Giuseppe de L...   \n",
       "\n",
       "                                         description  \n",
       "0  The adventures of a female reporter in the 1890s.  \n",
       "1  True story of notorious Australian outlaw Ned ...  \n",
       "2  Two men of high rank are both wooing the beaut...  \n",
       "3  The fabled queen of Egypt's affair with Roman ...  \n",
       "4  Loosely adapted from Dante's Divine Comedy and...  "
      ]
     },
     "execution_count": 3,
     "metadata": {},
     "output_type": "execute_result"
    }
   ],
   "source": [
    "data_recsys=imdb_movies[['original_title', 'genre', 'director', 'actors', 'description']].reset_index(drop = True)\n",
    "data_recsys.head()"
   ]
  },
  {
   "cell_type": "code",
   "execution_count": 4,
   "metadata": {},
   "outputs": [],
   "source": [
    "data_recsys.set_index(\"original_title\", inplace = True)"
   ]
  },
  {
   "cell_type": "code",
   "execution_count": 5,
   "metadata": {},
   "outputs": [],
   "source": [
    "data_recsys[\"genre\"] = data_recsys[\"genre\"].fillna('').astype('str').str.lower()\n",
    "data_recsys[\"genre\"] = data_recsys[\"genre\"].str.split(',')"
   ]
  },
  {
   "cell_type": "code",
   "execution_count": 6,
   "metadata": {},
   "outputs": [],
   "source": [
    "data_recsys[\"director\"] = data_recsys[\"director\"].fillna('').astype(\"str\").str.lower()\n",
    "data_recsys[\"director\"] = data_recsys[\"director\"].str.split(',')\n",
    "\n",
    "data_recsys[\"actors\"] = data_recsys[\"actors\"].fillna('').astype(\"str\").str.lower()\n",
    "data_recsys[\"actors\"] = data_recsys[\"actors\"].str.split(',')"
   ]
  },
  {
   "cell_type": "code",
   "execution_count": 7,
   "metadata": {},
   "outputs": [
    {
     "data": {
      "text/html": [
       "<div>\n",
       "<style scoped>\n",
       "    .dataframe tbody tr th:only-of-type {\n",
       "        vertical-align: middle;\n",
       "    }\n",
       "\n",
       "    .dataframe tbody tr th {\n",
       "        vertical-align: top;\n",
       "    }\n",
       "\n",
       "    .dataframe thead th {\n",
       "        text-align: right;\n",
       "    }\n",
       "</style>\n",
       "<table border=\"1\" class=\"dataframe\">\n",
       "  <thead>\n",
       "    <tr style=\"text-align: right;\">\n",
       "      <th></th>\n",
       "      <th>genre</th>\n",
       "      <th>director</th>\n",
       "      <th>actors</th>\n",
       "      <th>description</th>\n",
       "    </tr>\n",
       "    <tr>\n",
       "      <th>original_title</th>\n",
       "      <th></th>\n",
       "      <th></th>\n",
       "      <th></th>\n",
       "      <th></th>\n",
       "    </tr>\n",
       "  </thead>\n",
       "  <tbody>\n",
       "    <tr>\n",
       "      <th>Miss Jerry</th>\n",
       "      <td>[romance]</td>\n",
       "      <td>[alexander black]</td>\n",
       "      <td>[blanche bayliss,  william courtenay,  chaunce...</td>\n",
       "      <td>The adventures of a female reporter in the 1890s.</td>\n",
       "    </tr>\n",
       "    <tr>\n",
       "      <th>The Story of the Kelly Gang</th>\n",
       "      <td>[biography,  crime,  drama]</td>\n",
       "      <td>[charles tait]</td>\n",
       "      <td>[elizabeth tait,  john tait,  norman campbell,...</td>\n",
       "      <td>True story of notorious Australian outlaw Ned ...</td>\n",
       "    </tr>\n",
       "    <tr>\n",
       "      <th>Den sorte drøm</th>\n",
       "      <td>[drama]</td>\n",
       "      <td>[urban gad]</td>\n",
       "      <td>[asta nielsen,  valdemar psilander,  gunnar he...</td>\n",
       "      <td>Two men of high rank are both wooing the beaut...</td>\n",
       "    </tr>\n",
       "    <tr>\n",
       "      <th>Cleopatra</th>\n",
       "      <td>[drama,  history]</td>\n",
       "      <td>[charles l. gaskill]</td>\n",
       "      <td>[helen gardner,  pearl sindelar,  miss fieldin...</td>\n",
       "      <td>The fabled queen of Egypt's affair with Roman ...</td>\n",
       "    </tr>\n",
       "    <tr>\n",
       "      <th>L'Inferno</th>\n",
       "      <td>[adventure,  drama,  fantasy]</td>\n",
       "      <td>[francesco bertolini,  adolfo padovan]</td>\n",
       "      <td>[salvatore papa,  arturo pirovano,  giuseppe d...</td>\n",
       "      <td>Loosely adapted from Dante's Divine Comedy and...</td>\n",
       "    </tr>\n",
       "  </tbody>\n",
       "</table>\n",
       "</div>"
      ],
      "text/plain": [
       "                                                     genre  \\\n",
       "original_title                                               \n",
       "Miss Jerry                                       [romance]   \n",
       "The Story of the Kelly Gang    [biography,  crime,  drama]   \n",
       "Den sorte drøm                                     [drama]   \n",
       "Cleopatra                                [drama,  history]   \n",
       "L'Inferno                    [adventure,  drama,  fantasy]   \n",
       "\n",
       "                                                           director  \\\n",
       "original_title                                                        \n",
       "Miss Jerry                                        [alexander black]   \n",
       "The Story of the Kelly Gang                          [charles tait]   \n",
       "Den sorte drøm                                          [urban gad]   \n",
       "Cleopatra                                      [charles l. gaskill]   \n",
       "L'Inferno                    [francesco bertolini,  adolfo padovan]   \n",
       "\n",
       "                                                                        actors  \\\n",
       "original_title                                                                   \n",
       "Miss Jerry                   [blanche bayliss,  william courtenay,  chaunce...   \n",
       "The Story of the Kelly Gang  [elizabeth tait,  john tait,  norman campbell,...   \n",
       "Den sorte drøm               [asta nielsen,  valdemar psilander,  gunnar he...   \n",
       "Cleopatra                    [helen gardner,  pearl sindelar,  miss fieldin...   \n",
       "L'Inferno                    [salvatore papa,  arturo pirovano,  giuseppe d...   \n",
       "\n",
       "                                                                   description  \n",
       "original_title                                                                  \n",
       "Miss Jerry                   The adventures of a female reporter in the 1890s.  \n",
       "The Story of the Kelly Gang  True story of notorious Australian outlaw Ned ...  \n",
       "Den sorte drøm               Two men of high rank are both wooing the beaut...  \n",
       "Cleopatra                    The fabled queen of Egypt's affair with Roman ...  \n",
       "L'Inferno                    Loosely adapted from Dante's Divine Comedy and...  "
      ]
     },
     "execution_count": 7,
     "metadata": {},
     "output_type": "execute_result"
    }
   ],
   "source": [
    "data_recsys.head()"
   ]
  },
  {
   "cell_type": "code",
   "execution_count": 8,
   "metadata": {},
   "outputs": [
    {
     "name": "stderr",
     "output_type": "stream",
     "text": [
      "[nltk_data] Downloading package stopwords to\n",
      "[nltk_data]     C:\\Users\\emirhan\\AppData\\Roaming\\nltk_data...\n",
      "[nltk_data]   Package stopwords is already up-to-date!\n"
     ]
    },
    {
     "data": {
      "text/plain": [
       "True"
      ]
     },
     "execution_count": 8,
     "metadata": {},
     "output_type": "execute_result"
    }
   ],
   "source": [
    "import nltk\n",
    "nltk.download('stopwords')"
   ]
  },
  {
   "cell_type": "code",
   "execution_count": 9,
   "metadata": {},
   "outputs": [],
   "source": [
    "data_recsys['description'] = data_recsys['description'].fillna('').astype('str').str.lower()\n",
    "data_recsys['description'] = data_recsys['description'].str.translate(str.maketrans('', '', string.punctuation))\n",
    "\n",
    "listStopwords = set(stopwords.words('english'))\n",
    "filtered = []\n",
    "ps = PorterStemmer() \n",
    "for i, text in enumerate(data_recsys['description'].str.split()):\n",
    "    for word in text:\n",
    "        # Filtering/Removing stopwords in the text\n",
    "        if word not in listStopwords:\n",
    "            # Stemming words\n",
    "            word_stemmed = ps.stem(word)\n",
    "            filtered.append(word_stemmed)\n",
    "    data_recsys['description'][i] = filtered\n",
    "    filtered = []"
   ]
  },
  {
   "cell_type": "code",
   "execution_count": 10,
   "metadata": {},
   "outputs": [
    {
     "data": {
      "text/html": [
       "<div>\n",
       "<style scoped>\n",
       "    .dataframe tbody tr th:only-of-type {\n",
       "        vertical-align: middle;\n",
       "    }\n",
       "\n",
       "    .dataframe tbody tr th {\n",
       "        vertical-align: top;\n",
       "    }\n",
       "\n",
       "    .dataframe thead th {\n",
       "        text-align: right;\n",
       "    }\n",
       "</style>\n",
       "<table border=\"1\" class=\"dataframe\">\n",
       "  <thead>\n",
       "    <tr style=\"text-align: right;\">\n",
       "      <th></th>\n",
       "      <th>genre</th>\n",
       "      <th>director</th>\n",
       "      <th>actors</th>\n",
       "      <th>description</th>\n",
       "    </tr>\n",
       "    <tr>\n",
       "      <th>original_title</th>\n",
       "      <th></th>\n",
       "      <th></th>\n",
       "      <th></th>\n",
       "      <th></th>\n",
       "    </tr>\n",
       "  </thead>\n",
       "  <tbody>\n",
       "    <tr>\n",
       "      <th>Miss Jerry</th>\n",
       "      <td>[romance]</td>\n",
       "      <td>[alexander black]</td>\n",
       "      <td>[blanche bayliss,  william courtenay,  chaunce...</td>\n",
       "      <td>[adventur, femal, report, 1890]</td>\n",
       "    </tr>\n",
       "    <tr>\n",
       "      <th>The Story of the Kelly Gang</th>\n",
       "      <td>[biography,  crime,  drama]</td>\n",
       "      <td>[charles tait]</td>\n",
       "      <td>[elizabeth tait,  john tait,  norman campbell,...</td>\n",
       "      <td>[true, stori, notori, australian, outlaw, ned,...</td>\n",
       "    </tr>\n",
       "    <tr>\n",
       "      <th>Den sorte drøm</th>\n",
       "      <td>[drama]</td>\n",
       "      <td>[urban gad]</td>\n",
       "      <td>[asta nielsen,  valdemar psilander,  gunnar he...</td>\n",
       "      <td>[two, men, high, rank, woo, beauti, famou, equ...</td>\n",
       "    </tr>\n",
       "    <tr>\n",
       "      <th>Cleopatra</th>\n",
       "      <td>[drama,  history]</td>\n",
       "      <td>[charles l. gaskill]</td>\n",
       "      <td>[helen gardner,  pearl sindelar,  miss fieldin...</td>\n",
       "      <td>[fabl, queen, egypt, affair, roman, gener, mar...</td>\n",
       "    </tr>\n",
       "    <tr>\n",
       "      <th>L'Inferno</th>\n",
       "      <td>[adventure,  drama,  fantasy]</td>\n",
       "      <td>[francesco bertolini,  adolfo padovan]</td>\n",
       "      <td>[salvatore papa,  arturo pirovano,  giuseppe d...</td>\n",
       "      <td>[loos, adapt, dant, divin, comedi, inspir, ill...</td>\n",
       "    </tr>\n",
       "  </tbody>\n",
       "</table>\n",
       "</div>"
      ],
      "text/plain": [
       "                                                     genre  \\\n",
       "original_title                                               \n",
       "Miss Jerry                                       [romance]   \n",
       "The Story of the Kelly Gang    [biography,  crime,  drama]   \n",
       "Den sorte drøm                                     [drama]   \n",
       "Cleopatra                                [drama,  history]   \n",
       "L'Inferno                    [adventure,  drama,  fantasy]   \n",
       "\n",
       "                                                           director  \\\n",
       "original_title                                                        \n",
       "Miss Jerry                                        [alexander black]   \n",
       "The Story of the Kelly Gang                          [charles tait]   \n",
       "Den sorte drøm                                          [urban gad]   \n",
       "Cleopatra                                      [charles l. gaskill]   \n",
       "L'Inferno                    [francesco bertolini,  adolfo padovan]   \n",
       "\n",
       "                                                                        actors  \\\n",
       "original_title                                                                   \n",
       "Miss Jerry                   [blanche bayliss,  william courtenay,  chaunce...   \n",
       "The Story of the Kelly Gang  [elizabeth tait,  john tait,  norman campbell,...   \n",
       "Den sorte drøm               [asta nielsen,  valdemar psilander,  gunnar he...   \n",
       "Cleopatra                    [helen gardner,  pearl sindelar,  miss fieldin...   \n",
       "L'Inferno                    [salvatore papa,  arturo pirovano,  giuseppe d...   \n",
       "\n",
       "                                                                   description  \n",
       "original_title                                                                  \n",
       "Miss Jerry                                     [adventur, femal, report, 1890]  \n",
       "The Story of the Kelly Gang  [true, stori, notori, australian, outlaw, ned,...  \n",
       "Den sorte drøm               [two, men, high, rank, woo, beauti, famou, equ...  \n",
       "Cleopatra                    [fabl, queen, egypt, affair, roman, gener, mar...  \n",
       "L'Inferno                    [loos, adapt, dant, divin, comedi, inspir, ill...  "
      ]
     },
     "execution_count": 10,
     "metadata": {},
     "output_type": "execute_result"
    }
   ],
   "source": [
    "data_recsys.head()"
   ]
  },
  {
   "cell_type": "code",
   "execution_count": 11,
   "metadata": {},
   "outputs": [],
   "source": [
    "data_recsys['bunch_of_words'] = ''\n",
    "for i, text in data_recsys.iterrows():\n",
    "    words = ''\n",
    "    for col in data_recsys.columns:\n",
    "        words = words + ' '.join(text[col]) + ' '\n",
    "    data_recsys['bunch_of_words'][i] = words"
   ]
  },
  {
   "cell_type": "code",
   "execution_count": 12,
   "metadata": {},
   "outputs": [
    {
     "data": {
      "text/html": [
       "<div>\n",
       "<style scoped>\n",
       "    .dataframe tbody tr th:only-of-type {\n",
       "        vertical-align: middle;\n",
       "    }\n",
       "\n",
       "    .dataframe tbody tr th {\n",
       "        vertical-align: top;\n",
       "    }\n",
       "\n",
       "    .dataframe thead th {\n",
       "        text-align: right;\n",
       "    }\n",
       "</style>\n",
       "<table border=\"1\" class=\"dataframe\">\n",
       "  <thead>\n",
       "    <tr style=\"text-align: right;\">\n",
       "      <th></th>\n",
       "      <th>genre</th>\n",
       "      <th>director</th>\n",
       "      <th>actors</th>\n",
       "      <th>description</th>\n",
       "      <th>bunch_of_words</th>\n",
       "    </tr>\n",
       "    <tr>\n",
       "      <th>original_title</th>\n",
       "      <th></th>\n",
       "      <th></th>\n",
       "      <th></th>\n",
       "      <th></th>\n",
       "      <th></th>\n",
       "    </tr>\n",
       "  </thead>\n",
       "  <tbody>\n",
       "    <tr>\n",
       "      <th>Miss Jerry</th>\n",
       "      <td>[romance]</td>\n",
       "      <td>[alexander black]</td>\n",
       "      <td>[blanche bayliss,  william courtenay,  chaunce...</td>\n",
       "      <td>[adventur, femal, report, 1890]</td>\n",
       "      <td>romance alexander black blanche bayliss  willi...</td>\n",
       "    </tr>\n",
       "    <tr>\n",
       "      <th>The Story of the Kelly Gang</th>\n",
       "      <td>[biography,  crime,  drama]</td>\n",
       "      <td>[charles tait]</td>\n",
       "      <td>[elizabeth tait,  john tait,  norman campbell,...</td>\n",
       "      <td>[true, stori, notori, australian, outlaw, ned,...</td>\n",
       "      <td>biography  crime  drama charles tait elizabeth...</td>\n",
       "    </tr>\n",
       "    <tr>\n",
       "      <th>Den sorte drøm</th>\n",
       "      <td>[drama]</td>\n",
       "      <td>[urban gad]</td>\n",
       "      <td>[asta nielsen,  valdemar psilander,  gunnar he...</td>\n",
       "      <td>[two, men, high, rank, woo, beauti, famou, equ...</td>\n",
       "      <td>drama urban gad asta nielsen  valdemar psiland...</td>\n",
       "    </tr>\n",
       "    <tr>\n",
       "      <th>Cleopatra</th>\n",
       "      <td>[drama,  history]</td>\n",
       "      <td>[charles l. gaskill]</td>\n",
       "      <td>[helen gardner,  pearl sindelar,  miss fieldin...</td>\n",
       "      <td>[fabl, queen, egypt, affair, roman, gener, mar...</td>\n",
       "      <td>comedy  drama eduardo mignogna norma aleandro ...</td>\n",
       "    </tr>\n",
       "    <tr>\n",
       "      <th>L'Inferno</th>\n",
       "      <td>[adventure,  drama,  fantasy]</td>\n",
       "      <td>[francesco bertolini,  adolfo padovan]</td>\n",
       "      <td>[salvatore papa,  arturo pirovano,  giuseppe d...</td>\n",
       "      <td>[loos, adapt, dant, divin, comedi, inspir, ill...</td>\n",
       "      <td>adventure  drama  fantasy francesco bertolini ...</td>\n",
       "    </tr>\n",
       "  </tbody>\n",
       "</table>\n",
       "</div>"
      ],
      "text/plain": [
       "                                                     genre  \\\n",
       "original_title                                               \n",
       "Miss Jerry                                       [romance]   \n",
       "The Story of the Kelly Gang    [biography,  crime,  drama]   \n",
       "Den sorte drøm                                     [drama]   \n",
       "Cleopatra                                [drama,  history]   \n",
       "L'Inferno                    [adventure,  drama,  fantasy]   \n",
       "\n",
       "                                                           director  \\\n",
       "original_title                                                        \n",
       "Miss Jerry                                        [alexander black]   \n",
       "The Story of the Kelly Gang                          [charles tait]   \n",
       "Den sorte drøm                                          [urban gad]   \n",
       "Cleopatra                                      [charles l. gaskill]   \n",
       "L'Inferno                    [francesco bertolini,  adolfo padovan]   \n",
       "\n",
       "                                                                        actors  \\\n",
       "original_title                                                                   \n",
       "Miss Jerry                   [blanche bayliss,  william courtenay,  chaunce...   \n",
       "The Story of the Kelly Gang  [elizabeth tait,  john tait,  norman campbell,...   \n",
       "Den sorte drøm               [asta nielsen,  valdemar psilander,  gunnar he...   \n",
       "Cleopatra                    [helen gardner,  pearl sindelar,  miss fieldin...   \n",
       "L'Inferno                    [salvatore papa,  arturo pirovano,  giuseppe d...   \n",
       "\n",
       "                                                                   description  \\\n",
       "original_title                                                                   \n",
       "Miss Jerry                                     [adventur, femal, report, 1890]   \n",
       "The Story of the Kelly Gang  [true, stori, notori, australian, outlaw, ned,...   \n",
       "Den sorte drøm               [two, men, high, rank, woo, beauti, famou, equ...   \n",
       "Cleopatra                    [fabl, queen, egypt, affair, roman, gener, mar...   \n",
       "L'Inferno                    [loos, adapt, dant, divin, comedi, inspir, ill...   \n",
       "\n",
       "                                                                bunch_of_words  \n",
       "original_title                                                                  \n",
       "Miss Jerry                   romance alexander black blanche bayliss  willi...  \n",
       "The Story of the Kelly Gang  biography  crime  drama charles tait elizabeth...  \n",
       "Den sorte drøm               drama urban gad asta nielsen  valdemar psiland...  \n",
       "Cleopatra                    comedy  drama eduardo mignogna norma aleandro ...  \n",
       "L'Inferno                    adventure  drama  fantasy francesco bertolini ...  "
      ]
     },
     "execution_count": 12,
     "metadata": {},
     "output_type": "execute_result"
    }
   ],
   "source": [
    "data_recsys.head()"
   ]
  },
  {
   "cell_type": "code",
   "execution_count": 13,
   "metadata": {},
   "outputs": [],
   "source": [
    "count = CountVectorizer()\n",
    "count_matrix = count.fit_transform(data_recsys['bunch_of_words']).astype(np.uint8)"
   ]
  },
  {
   "cell_type": "code",
   "execution_count": 15,
   "metadata": {},
   "outputs": [],
   "source": [
    "del imdb_movies"
   ]
  },
  {
   "cell_type": "code",
   "execution_count": null,
   "metadata": {},
   "outputs": [],
   "source": [
    "# Calculate Cosine Similarity\n",
    "# Cosine similarity is a metric used to measure how similar the documents are irrespective of their size\n",
    "\n",
    "chunk_size = 500 \n",
    "matrix_len = count_matrix.shape[0] # Not sparse numpy.ndarray\n",
    "\n",
    "# Calculate cosine similarity chunk by chunk\n",
    "def similarity_cosine_by_chunk(start, end):\n",
    "    if end > matrix_len:\n",
    "        end = matrix_len\n",
    "    return cosine_similarity(X=count_matrix[start:end], Y=count_matrix)\n",
    "cosine_similarity_all = []\n",
    "i=0\n",
    "for chunk_start in range(0, matrix_len, chunk_size):\n",
    "    \n",
    "    # Initialize first cosine sim chunk (for first concatenating chunks purpose)\n",
    "    if i == 0: \n",
    "        cosine_sim = similarity_cosine_by_chunk(chunk_start, chunk_start+chunk_size)\n",
    "    \n",
    "    # Initialize other cosine sim chunk, then concatenating chunk by chunk untill all chunks concatenated\n",
    "    else :\n",
    "        cosine_similarity_chunk= similarity_cosine_by_chunk(chunk_start, chunk_start+chunk_size)\n",
    "        # Use type data float32 for reduce memory usage\n",
    "        cosine_sim = np.concatenate((cosine_sim.astype(np.float32), cosine_similarity_chunk.astype(np.float32)))\n",
    "    \n",
    "    # Change value i != 0 for execute else statement, because we dont need execute if statement anymore (if statement only to initialize first chunk for first concatenating purpose)\n",
    "    i= 1"
   ]
  },
  {
   "cell_type": "code",
   "execution_count": 43,
   "metadata": {},
   "outputs": [],
   "source": [
    "index_movies = pd.Series(data_recsys.index)"
   ]
  },
  {
   "cell_type": "code",
   "execution_count": 55,
   "metadata": {},
   "outputs": [],
   "source": [
    "def recommendation_movies(title, cosine_sim = cosine_sim):\n",
    "    recommended_movies = []\n",
    "    index_movie_input = index_movies[index_movies == title].index[0]\n",
    "    score_movies = pd.Series(cosine_sim[index_movie_input]).sort_values(ascending = False)\n",
    "    top_10_index_movies = list(score_movies.iloc[1:11].index)\n",
    "    # Get movies title and year by index (top 10 movies)\n",
    "    for i in top_10_index_movies:\n",
    "        recommended_movies.append(imdb_movies['original_title'].iloc[i] + ' (' + str(imdb_movies['year'].iloc[i]) + ')')\n",
    "    return recommended_movies"
   ]
  },
  {
   "cell_type": "code",
   "execution_count": null,
   "metadata": {},
   "outputs": [],
   "source": []
  },
  {
   "cell_type": "code",
   "execution_count": null,
   "metadata": {},
   "outputs": [],
   "source": []
  },
  {
   "cell_type": "code",
   "execution_count": null,
   "metadata": {},
   "outputs": [],
   "source": []
  },
  {
   "cell_type": "code",
   "execution_count": null,
   "metadata": {},
   "outputs": [],
   "source": []
  },
  {
   "cell_type": "code",
   "execution_count": null,
   "metadata": {},
   "outputs": [],
   "source": []
  },
  {
   "cell_type": "code",
   "execution_count": null,
   "metadata": {},
   "outputs": [],
   "source": []
  },
  {
   "cell_type": "code",
   "execution_count": null,
   "metadata": {},
   "outputs": [],
   "source": []
  },
  {
   "cell_type": "code",
   "execution_count": null,
   "metadata": {},
   "outputs": [],
   "source": []
  },
  {
   "cell_type": "code",
   "execution_count": null,
   "metadata": {},
   "outputs": [],
   "source": []
  },
  {
   "cell_type": "code",
   "execution_count": null,
   "metadata": {},
   "outputs": [],
   "source": []
  },
  {
   "cell_type": "code",
   "execution_count": null,
   "metadata": {},
   "outputs": [],
   "source": []
  },
  {
   "cell_type": "code",
   "execution_count": null,
   "metadata": {},
   "outputs": [],
   "source": []
  },
  {
   "cell_type": "code",
   "execution_count": null,
   "metadata": {},
   "outputs": [],
   "source": []
  },
  {
   "cell_type": "code",
   "execution_count": null,
   "metadata": {},
   "outputs": [],
   "source": []
  },
  {
   "cell_type": "code",
   "execution_count": null,
   "metadata": {},
   "outputs": [],
   "source": []
  },
  {
   "cell_type": "code",
   "execution_count": null,
   "metadata": {},
   "outputs": [],
   "source": []
  },
  {
   "cell_type": "code",
   "execution_count": null,
   "metadata": {},
   "outputs": [],
   "source": []
  },
  {
   "cell_type": "code",
   "execution_count": null,
   "metadata": {},
   "outputs": [],
   "source": []
  },
  {
   "cell_type": "code",
   "execution_count": null,
   "metadata": {},
   "outputs": [],
   "source": []
  },
  {
   "cell_type": "code",
   "execution_count": null,
   "metadata": {},
   "outputs": [],
   "source": []
  },
  {
   "cell_type": "code",
   "execution_count": null,
   "metadata": {},
   "outputs": [],
   "source": []
  },
  {
   "cell_type": "code",
   "execution_count": null,
   "metadata": {},
   "outputs": [],
   "source": []
  },
  {
   "cell_type": "code",
   "execution_count": null,
   "metadata": {},
   "outputs": [],
   "source": []
  },
  {
   "cell_type": "code",
   "execution_count": null,
   "metadata": {},
   "outputs": [],
   "source": []
  },
  {
   "cell_type": "code",
   "execution_count": null,
   "metadata": {},
   "outputs": [],
   "source": []
  },
  {
   "cell_type": "code",
   "execution_count": null,
   "metadata": {},
   "outputs": [],
   "source": []
  },
  {
   "cell_type": "code",
   "execution_count": null,
   "metadata": {},
   "outputs": [],
   "source": []
  },
  {
   "cell_type": "code",
   "execution_count": null,
   "metadata": {},
   "outputs": [],
   "source": []
  },
  {
   "cell_type": "code",
   "execution_count": null,
   "metadata": {},
   "outputs": [],
   "source": []
  },
  {
   "cell_type": "code",
   "execution_count": null,
   "metadata": {},
   "outputs": [],
   "source": []
  },
  {
   "cell_type": "code",
   "execution_count": null,
   "metadata": {},
   "outputs": [],
   "source": []
  },
  {
   "cell_type": "code",
   "execution_count": null,
   "metadata": {},
   "outputs": [],
   "source": []
  },
  {
   "cell_type": "code",
   "execution_count": null,
   "metadata": {},
   "outputs": [],
   "source": []
  },
  {
   "cell_type": "code",
   "execution_count": null,
   "metadata": {},
   "outputs": [],
   "source": []
  },
  {
   "cell_type": "code",
   "execution_count": null,
   "metadata": {},
   "outputs": [],
   "source": []
  },
  {
   "cell_type": "code",
   "execution_count": null,
   "metadata": {},
   "outputs": [],
   "source": []
  },
  {
   "cell_type": "code",
   "execution_count": null,
   "metadata": {},
   "outputs": [],
   "source": []
  },
  {
   "cell_type": "code",
   "execution_count": null,
   "metadata": {},
   "outputs": [],
   "source": []
  },
  {
   "cell_type": "code",
   "execution_count": null,
   "metadata": {},
   "outputs": [],
   "source": []
  },
  {
   "cell_type": "code",
   "execution_count": null,
   "metadata": {},
   "outputs": [],
   "source": []
  },
  {
   "cell_type": "code",
   "execution_count": null,
   "metadata": {},
   "outputs": [],
   "source": []
  },
  {
   "cell_type": "code",
   "execution_count": null,
   "metadata": {},
   "outputs": [],
   "source": []
  },
  {
   "cell_type": "code",
   "execution_count": null,
   "metadata": {},
   "outputs": [],
   "source": []
  },
  {
   "cell_type": "code",
   "execution_count": null,
   "metadata": {},
   "outputs": [],
   "source": []
  },
  {
   "cell_type": "code",
   "execution_count": null,
   "metadata": {},
   "outputs": [],
   "source": []
  },
  {
   "cell_type": "code",
   "execution_count": null,
   "metadata": {},
   "outputs": [],
   "source": []
  },
  {
   "cell_type": "code",
   "execution_count": null,
   "metadata": {},
   "outputs": [],
   "source": []
  },
  {
   "cell_type": "code",
   "execution_count": null,
   "metadata": {},
   "outputs": [],
   "source": []
  },
  {
   "cell_type": "code",
   "execution_count": null,
   "metadata": {},
   "outputs": [],
   "source": []
  },
  {
   "cell_type": "code",
   "execution_count": null,
   "metadata": {},
   "outputs": [],
   "source": []
  },
  {
   "cell_type": "code",
   "execution_count": null,
   "metadata": {},
   "outputs": [],
   "source": []
  },
  {
   "cell_type": "code",
   "execution_count": null,
   "metadata": {},
   "outputs": [],
   "source": []
  },
  {
   "cell_type": "code",
   "execution_count": null,
   "metadata": {},
   "outputs": [],
   "source": []
  },
  {
   "cell_type": "code",
   "execution_count": null,
   "metadata": {},
   "outputs": [],
   "source": []
  },
  {
   "cell_type": "code",
   "execution_count": null,
   "metadata": {},
   "outputs": [],
   "source": []
  },
  {
   "cell_type": "code",
   "execution_count": null,
   "metadata": {},
   "outputs": [],
   "source": []
  }
 ],
 "metadata": {
  "kernelspec": {
   "display_name": "Python 3",
   "language": "python",
   "name": "python3"
  },
  "language_info": {
   "codemirror_mode": {
    "name": "ipython",
    "version": 3
   },
   "file_extension": ".py",
   "mimetype": "text/x-python",
   "name": "python",
   "nbconvert_exporter": "python",
   "pygments_lexer": "ipython3",
   "version": "3.7.3"
  }
 },
 "nbformat": 4,
 "nbformat_minor": 2
}
